{
  "nbformat": 4,
  "nbformat_minor": 0,
  "metadata": {
    "colab": {
      "provenance": []
    },
    "kernelspec": {
      "name": "python3",
      "display_name": "Python 3"
    },
    "language_info": {
      "name": "python"
    }
  },
  "cells": [
    {
      "cell_type": "markdown",
      "source": [
        "Analisi dei Piloti del Mondiale di Formula 1\n",
        "\n",
        "Il dataset formula1_data.csv contiene i risultati del mondiale di Formula 1 della Stagione 2008.\n",
        "\n",
        "Esso contiene 180 righe e le seguenti 5 colonne:\n",
        "\n",
        "1.Driver: Nome del Pilota\n",
        "\n",
        "2.Team: Costruttore per il quale il pilota gareggia\n",
        "\n",
        "3.Race: Città dove si è svolto il Gran Premio\n",
        "\n",
        "4.Country: Paese dove si è svolto il Gran Premio\n",
        "\n",
        "5.Position: Numero compreso tra 0 e 8 che rappresentano l’ordine di arrivo del pilota nella singola gara (0 significa che il pilota non è arrivato tra i primi 8). Al termine di un gran premio, vengono assegnati i punti ai piloti in base all’ordine di arrivo: 10 al vincitore, 8 al secondo, 6 al terzo, e poi a scalare di 1 punto fino all’ottavo.\n",
        "\n",
        "Implementa un insieme di funzioni per analizzare i risultati del Campionato Mondiale di Formula 1 utilizzando i dati nel file csv a tua disposizione\n",
        "\n",
        "In particolare dovrai implementare le seguenti funzioni:\n",
        "\n",
        "- Una funzione che riceve in input il nome di un pilota e restituisce una lista contenente il totale dei punti del pilota, il numero di vittorie (quante volte il pilota è arrivato primo) e il numero dei podi (quante volte il pilota è salito sul podio).\n",
        "\n",
        "- Una funzione che non riceve alcun parametro in ingresso e deve restituire un dizionario formato da coppie chiave valore, dove la chiave è una stringa che contiene il nome del pilota, mentre il valore associato alla chiave è un intero che rappresenta il totale dei punti che il pilota ha conseguito alla fine del campionato mondiale. Salva poi la classifica in un file di testo di tipo txt con il seguente formato: Drivers Standings 2008 Formula 1 NomePilota1: PunteggioTotale\n",
        "\n",
        "  NomePilota2: PunteggioTotale…\n",
        "\n",
        "- Una funzione che non riceve alcun parametro in ingresso e deve restituire un dizionario formato da coppie chiave valore, dove la chiave è una stringa che contiene il nome del costruttore, mentre il valore associato alla chiave è un intero che rappresenta il totale dei punti che il costruttore ha conseguito alla fine del campionato mondiale. I punti conseguiti da un costruttore sono la somma dei punti che i piloti che corrono per il costruttore hanno conseguito durante l’anno.Per fare ciò, utilizza i dati salvati sul file creato precedentemente"
      ],
      "metadata": {
        "id": "etXu6nBPaLyI"
      }
    },
    {
      "cell_type": "code",
      "execution_count": null,
      "metadata": {
        "colab": {
          "base_uri": "https://localhost:8080/"
        },
        "id": "-g_CLoXaDPKb",
        "outputId": "2bdb788c-74cd-4a76-db9e-f5cf27a2da07"
      },
      "outputs": [
        {
          "output_type": "stream",
          "name": "stdout",
          "text": [
            "Nome del pilota: Massa\n",
            "[97, 6, 10]\n"
          ]
        }
      ],
      "source": [
        "def punteggio_per_posizione(posizione):\n",
        "    punti_per_posizione = {1: 10, 2: 8, 3: 6, 4: 5, 5: 4, 6: 3, 7: 2, 8: 1}\n",
        "    return punti_per_posizione.get(posizione, 0)\n",
        "\n",
        "import csv\n",
        "\n",
        "def dettagli_pilota(nome_pilota):\n",
        "    with open('formula1_data.csv', mode='r') as csvfile:\n",
        "        reader = csv.DictReader(csvfile)\n",
        "\n",
        "        punti_totali = 0\n",
        "        vittorie = 0\n",
        "        podi = 0\n",
        "\n",
        "        nome_pilota = nome_pilota.lower()\n",
        "\n",
        "        for row in reader:\n",
        "            pilota_csv = row['Driver'].lower()\n",
        "            if pilota_csv == nome_pilota:\n",
        "                posizione = int(row['Position'])\n",
        "                punti_totali += punteggio_per_posizione(posizione)\n",
        "                if posizione == 1:\n",
        "                    vittorie += 1\n",
        "                if 1 <= posizione <= 3:\n",
        "                    podi += 1\n",
        "\n",
        "        return [punti_totali, vittorie, podi]\n",
        "\n",
        "nome_pilota = input(\"Nome del pilota: \")\n",
        "print(dettagli_pilota(nome_pilota))\n"
      ]
    },
    {
      "cell_type": "code",
      "source": [
        "#Punto 2\n",
        "\n",
        "def classifica_piloti():\n",
        "    scores = {}\n",
        "    with open(\"formula1_data.csv\", mode=\"r\") as csvfile:\n",
        "        reader = csv.DictReader(csvfile)\n",
        "        for row in reader:\n",
        "            pilota = row['Driver']\n",
        "            posizione = int(row['Position'])\n",
        "            punti = punteggio_per_posizione(posizione)\n",
        "            scores[pilota] = scores.get(pilota, 0) + punti\n",
        "\n",
        "    # Salvataggio su file\n",
        "    with open('classifica_2008.txt', 'w') as file:\n",
        "        file.write('Drivers Standings 2008 Formula 1\\n')\n",
        "        for pilota, punti in sorted(scores.items(), key=lambda item: item[1], reverse=True):\n",
        "            file.write(f\"{pilota}: {punti}\\n\")\n",
        "\n",
        "    return scores\n",
        "classifica_piloti()"
      ],
      "metadata": {
        "id": "ttCVo_yFH6v2",
        "outputId": "7d52fd9a-3117-42f3-e67c-3de6ddae7f07",
        "colab": {
          "base_uri": "https://localhost:8080/"
        }
      },
      "execution_count": null,
      "outputs": [
        {
          "output_type": "execute_result",
          "data": {
            "text/plain": [
              "{'Hamilton': 98,\n",
              " 'Massa': 97,\n",
              " 'Raikkonen': 75,\n",
              " 'Kubica': 75,\n",
              " 'Alonso': 61,\n",
              " 'Heidfeld': 60,\n",
              " 'Kovalainen': 53,\n",
              " 'Vettel': 35,\n",
              " 'Trulli': 31,\n",
              " 'Glock': 25}"
            ]
          },
          "metadata": {},
          "execution_count": 3
        }
      ]
    },
    {
      "cell_type": "code",
      "source": [
        "#Punto 3\n",
        "\n",
        "def classifica_costruttori():\n",
        "    costruttori_punti = {}\n",
        "    with open(\"formula1_data.csv\", mode=\"r\") as csvfile:\n",
        "        reader = csv.DictReader(csvfile)\n",
        "        for row in reader:\n",
        "            costruttore = row['Team']\n",
        "            posizione = int(row['Position'])\n",
        "            punti = punteggio_per_posizione(posizione)\n",
        "            costruttori_punti[costruttore] = costruttori_punti.get(costruttore, 0) + punti\n",
        "\n",
        "    return costruttori_punti\n",
        "\n",
        "# Stampa la classifica dei costruttori\n",
        "print(classifica_costruttori())"
      ],
      "metadata": {
        "id": "J9TPd9u8Mgz-",
        "outputId": "1161516b-2db5-432f-b387-b1cf67dfbd5e",
        "colab": {
          "base_uri": "https://localhost:8080/"
        }
      },
      "execution_count": null,
      "outputs": [
        {
          "output_type": "stream",
          "name": "stdout",
          "text": [
            "{'McLaren': 151, 'Ferrari': 172, 'BMW': 135, 'Renault': 61, 'Toro Rosso': 35, 'Toyota': 56}\n"
          ]
        }
      ]
    },
    {
      "cell_type": "code",
      "source": [
        "#Punto 3 con file txt\n",
        "\n",
        "import csv\n",
        "\n",
        "def crea_mappatura_pilota_costruttore():\n",
        "    mappatura = {}\n",
        "    with open('formula1_data.csv', mode='r') as csvfile:\n",
        "        reader = csv.DictReader(csvfile)\n",
        "        for row in reader:\n",
        "            if row['Driver'] not in mappatura:\n",
        "                mappatura[row['Driver']] = row['Team']\n",
        "    return mappatura\n",
        "\n",
        "def classifica_costruttori_da_file():\n",
        "    costruttori_punti = {}\n",
        "    pilota_costruttore = crea_mappatura_pilota_costruttore()\n",
        "\n",
        "    with open('classifica_2008.txt', 'r') as file:\n",
        "        next(file)  # Per saltare l'intestazione del file\n",
        "        for line in file:\n",
        "            pilota, punti = line.split(\":\")\n",
        "            punti = int(punti.strip())\n",
        "            costruttore = pilota_costruttore.get(pilota.strip(), None)\n",
        "            if costruttore:\n",
        "                costruttori_punti[costruttore] = costruttori_punti.get(costruttore, 0) + punti\n",
        "\n",
        "    return costruttori_punti\n",
        "\n",
        "# Eseguire la funzione e stampare il risultato\n",
        "print(classifica_costruttori_da_file())"
      ],
      "metadata": {
        "id": "wO5S0QqPNz_l",
        "outputId": "69200ef5-2227-4ebe-e330-8f5cf51fc1cf",
        "colab": {
          "base_uri": "https://localhost:8080/"
        }
      },
      "execution_count": null,
      "outputs": [
        {
          "output_type": "stream",
          "name": "stdout",
          "text": [
            "{'McLaren': 151, 'Ferrari': 172, 'BMW': 135, 'Renault': 61, 'Toro Rosso': 35, 'Toyota': 56}\n"
          ]
        }
      ]
    }
  ]
}